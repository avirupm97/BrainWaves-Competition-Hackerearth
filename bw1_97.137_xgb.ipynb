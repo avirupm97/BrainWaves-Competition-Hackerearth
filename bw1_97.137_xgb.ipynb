{
 "cells": [
  {
   "cell_type": "code",
   "execution_count": 1,
   "metadata": {
    "collapsed": true
   },
   "outputs": [],
   "source": [
    "import numpy as np\n",
    "import pandas as pd\n",
    "import matplotlib.pyplot as plt\n",
    "import datetime\n",
    "%matplotlib inline\n",
    "import seaborn as sns"
   ]
  },
  {
   "cell_type": "code",
   "execution_count": 2,
   "metadata": {
    "collapsed": false
   },
   "outputs": [],
   "source": [
    "df1=pd.read_csv('train1.csv')\n",
    "df2=pd.read_csv('test1.csv')"
   ]
  },
  {
   "cell_type": "code",
   "execution_count": 3,
   "metadata": {
    "collapsed": false
   },
   "outputs": [],
   "source": [
    "def replace_nan_to_false(checker):\n",
    "    if(str(checker)=='nan'):\n",
    "        return False\n",
    "    else:\n",
    "        return True\n",
    "\n",
    "df1['indicator_code']=df1['indicator_code'].apply(replace_nan_to_false)\n",
    "df1['status']=df1['status'].apply(replace_nan_to_false)\n",
    "df2['indicator_code']=df2['indicator_code'].apply(replace_nan_to_false)\n",
    "df2['status']=df2['status'].apply(replace_nan_to_false)\n"
   ]
  },
  {
   "cell_type": "code",
   "execution_count": 4,
   "metadata": {
    "collapsed": false
   },
   "outputs": [],
   "source": [
    "y_train=df1['return']\n",
    "portfolio_id=df2['portfolio_id']\n",
    "df1.drop(['portfolio_id','desk_id','sold','return'], axis=1, inplace=True)\n",
    "df2.drop(['portfolio_id','desk_id'], axis=1, inplace=True)\n"
   ]
  },
  {
   "cell_type": "code",
   "execution_count": 5,
   "metadata": {
    "collapsed": false
   },
   "outputs": [],
   "source": [
    "from sklearn.base import TransformerMixin\n",
    "class DataFrameImputer(TransformerMixin):\n",
    "    def fit(self, X, y=None):\n",
    "        self.fill = pd.Series([X[c].value_counts().index[0]\n",
    "            if X[c].dtype == np.dtype('O') else X[c].median() for c in X],\n",
    "            index=X.columns)\n",
    "        return self\n",
    "    def transform(self, X, y=None):\n",
    "        return X.fillna(self.fill)\n",
    "\n",
    "all_X = df1.append(df2)\n",
    "all_X_imputed = DataFrameImputer().fit_transform(all_X)\n",
    "\n",
    "from sklearn.preprocessing import LabelEncoder\n",
    "le = LabelEncoder()\n",
    "for feature in all_X_imputed.columns:\n",
    "    if all_X_imputed[feature].dtype == 'object':\n",
    "        all_X_imputed[feature] = le.fit_transform(all_X_imputed[feature])\n",
    "\n",
    "\n",
    "df1 = all_X_imputed[0:df1.shape[0]]\n",
    "df2 = all_X_imputed[df1.shape[0]::]\n",
    "\n",
    "\n",
    "                     "
   ]
  },
  {
   "cell_type": "code",
   "execution_count": 6,
   "metadata": {
    "collapsed": false
   },
   "outputs": [
    {
     "name": "stderr",
     "output_type": "stream",
     "text": [
      "C:\\ProgramData\\Anaconda3\\lib\\site-packages\\ipykernel\\__main__.py:2: SettingWithCopyWarning: \n",
      "A value is trying to be set on a copy of a slice from a DataFrame.\n",
      "Try using .loc[row_indexer,col_indexer] = value instead\n",
      "\n",
      "See the caveats in the documentation: http://pandas.pydata.org/pandas-docs/stable/indexing.html#indexing-view-versus-copy\n",
      "  from ipykernel import kernelapp as app\n",
      "C:\\ProgramData\\Anaconda3\\lib\\site-packages\\ipykernel\\__main__.py:3: SettingWithCopyWarning: \n",
      "A value is trying to be set on a copy of a slice from a DataFrame.\n",
      "Try using .loc[row_indexer,col_indexer] = value instead\n",
      "\n",
      "See the caveats in the documentation: http://pandas.pydata.org/pandas-docs/stable/indexing.html#indexing-view-versus-copy\n",
      "  app.launch_new_instance()\n"
     ]
    }
   ],
   "source": [
    "\n",
    "df1['new_feature']=df1['bought']-df1['sold']\n",
    "df2['new_feature']=df1['bought']-df2['sold']\n",
    "\n",
    "X_train=df1.drop(['currency','libor_rate','status','bought', 'sold'], axis=1)\n",
    "X_test=df2.drop(['currency','libor_rate', 'status','bought', 'sold'], axis=1)\n",
    "\n",
    "#test with country_code, currency, and/or, creation and sell\n"
   ]
  },
  {
   "cell_type": "code",
   "execution_count": 7,
   "metadata": {
    "collapsed": false
   },
   "outputs": [],
   "source": [
    "\n",
    "from datetime import datetime\n",
    "from dateutil.parser import parse\n",
    "\n",
    "def to_date_str(date):\n",
    "    return datetime.strptime(str(date), '%Y%m%d').strftime('%m/%d/%Y')\n",
    "\n",
    "X_train['start_date']=X_train['start_date'].apply(to_date_str)\n",
    "X_train['sell_date']=X_train['sell_date'].apply(to_date_str)\n",
    "X_test['start_date']=X_test['start_date'].apply(to_date_str)\n",
    "X_test['sell_date']=X_test['sell_date'].apply(to_date_str)\n",
    "\n",
    "\n",
    "date_format = \"%m/%d/%Y\"\n",
    "def to_date_obj(date_str):\n",
    "    return datetime.strptime(date_str, date_format)\n",
    "\n",
    "X_train['start_date']=X_train['start_date'].apply(to_date_obj)\n",
    "X_train['sell_date']=X_train['sell_date'].apply(to_date_obj)\n",
    "\n",
    "X_train['new_time']=X_train['start_date']-X_train['sell_date']\n",
    "\n",
    "X_train['new_time']=(X_train['new_time'] / np.timedelta64(1, 'D')).astype(int)\n",
    "X_train.drop(['start_date','sell_date'], axis=1, inplace=True)\n",
    "\n",
    "\n",
    "X_test['start_date']=X_test['start_date'].apply(to_date_obj)\n",
    "X_test['sell_date']=X_test['sell_date'].apply(to_date_obj)\n",
    "\n",
    "X_test['new_time']=X_test['start_date']-X_test['sell_date']\n",
    "\n",
    "X_test['new_time']=(X_test['new_time'] / np.timedelta64(1, 'D')).astype(int)\n",
    "X_test.drop(['start_date','sell_date'], axis=1, inplace=True)\n"
   ]
  },
  {
   "cell_type": "code",
   "execution_count": 8,
   "metadata": {
    "collapsed": false
   },
   "outputs": [],
   "source": [
    "from sklearn.ensemble import RandomForestRegressor\n",
    "rfc=RandomForestRegressor(n_estimators=500)\n",
    "\n",
    "rfc.fit(X_train,y_train)\n",
    "rfc_pred=rfc.predict(X_test)"
   ]
  },
  {
   "cell_type": "code",
   "execution_count": 10,
   "metadata": {
    "collapsed": true
   },
   "outputs": [],
   "source": [
    "rfc=RandomForestRegressor(n_estimators=500)\n",
    "rfc.fit(X_train,y_train)\n",
    "rfc_pred=rfc.predict(X_test)"
   ]
  },
  {
   "cell_type": "code",
   "execution_count": 11,
   "metadata": {
    "collapsed": false
   },
   "outputs": [],
   "source": [
    "prediction=pd.DataFrame(columns=['portfolio_id','return'])\n",
    "prediction['return']=rfc_pred\n",
    "prediction['portfolio_id']=portfolio_id"
   ]
  },
  {
   "cell_type": "code",
   "execution_count": 12,
   "metadata": {
    "collapsed": false
   },
   "outputs": [],
   "source": [
    "prediction.to_csv('bw1_example_xgboost.csv', index=False)"
   ]
  }
 ],
 "metadata": {
  "kernelspec": {
   "display_name": "Python 3",
   "language": "python",
   "name": "python3"
  },
  "language_info": {
   "codemirror_mode": {
    "name": "ipython",
    "version": 3
   },
   "file_extension": ".py",
   "mimetype": "text/x-python",
   "name": "python",
   "nbconvert_exporter": "python",
   "pygments_lexer": "ipython3",
   "version": "3.6.0"
  }
 },
 "nbformat": 4,
 "nbformat_minor": 2
}
