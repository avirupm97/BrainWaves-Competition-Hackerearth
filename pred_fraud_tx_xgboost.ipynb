{
 "cells": [
  {
   "cell_type": "code",
   "execution_count": 1,
   "metadata": {
    "collapsed": true
   },
   "outputs": [],
   "source": [
    "import pandas as pd\n",
    "import numpy as np\n",
    "import matplotlib.pyplot as plt\n",
    "import seaborn as sns\n",
    "import math\n",
    "%matplotlib inline"
   ]
  },
  {
   "cell_type": "code",
   "execution_count": 2,
   "metadata": {
    "collapsed": false
   },
   "outputs": [],
   "source": [
    "df=pd.read_csv('train.csv')\n",
    "df_copy=df[['cat_var_1','cat_var_2', 'cat_var_3', 'cat_var_6', 'cat_var_8', 'cat_var_9','cat_var_10', 'cat_var_13', 'cat_var_15']]\n",
    "df2=pd.read_csv('test.csv')\n",
    "df2_copy=df2[['cat_var_1','cat_var_2', 'cat_var_3', 'cat_var_6', 'cat_var_8', 'cat_var_9','cat_var_10', 'cat_var_13', 'cat_var_15']]"
   ]
  },
  {
   "cell_type": "code",
   "execution_count": 3,
   "metadata": {
    "collapsed": true
   },
   "outputs": [],
   "source": [
    "x=df.corr()\n",
    "y_train=df['target']"
   ]
  },
  {
   "cell_type": "code",
   "execution_count": 4,
   "metadata": {
    "collapsed": false
   },
   "outputs": [],
   "source": [
    "ls=[]\n",
    "ls=x.columns\n",
    "j=0\n",
    "for i in x['target']:\n",
    "    if str(i)=='nan':\n",
    "        x.drop(ls[j], inplace=True)\n",
    "        j=j+1\n",
    "        i=i+1\n",
    "    else:\n",
    "        j=j+1\n",
    "        i=i+1"
   ]
  },
  {
   "cell_type": "code",
   "execution_count": 5,
   "metadata": {
    "collapsed": true
   },
   "outputs": [],
   "source": [
    "cols=[]\n",
    "rem=[]\n",
    "cols=x.reset_index()['index']\n",
    "rem=cols"
   ]
  },
  {
   "cell_type": "code",
   "execution_count": 6,
   "metadata": {
    "collapsed": false
   },
   "outputs": [],
   "source": [
    "j=0\n",
    "for i in x['target']:\n",
    "    if abs(i) < 0.01:\n",
    "        x.drop(rem[j], inplace=True)\n",
    "        i=i+1\n",
    "        j=j+1\n",
    "    else:\n",
    "        i=i+1\n",
    "        j=j+1    "
   ]
  },
  {
   "cell_type": "code",
   "execution_count": 7,
   "metadata": {
    "collapsed": false
   },
   "outputs": [],
   "source": [
    "cols=[]\n",
    "cols=x.reset_index()['index']\n",
    "cols=cols[:-1]"
   ]
  },
  {
   "cell_type": "code",
   "execution_count": 8,
   "metadata": {
    "collapsed": true
   },
   "outputs": [],
   "source": [
    "heads=[]\n",
    "heads=df.columns[1:df.columns.shape[0]-1]\n",
    "discard=[]\n",
    "discard=list(set(cols).symmetric_difference(heads))"
   ]
  },
  {
   "cell_type": "code",
   "execution_count": 9,
   "metadata": {
    "collapsed": false
   },
   "outputs": [],
   "source": [
    "df.drop(discard, axis=1, inplace=True)\n",
    "df2.drop(discard, axis=1, inplace=True)\n",
    "df.drop(['transaction_id', 'target'], axis=1, inplace=True)\n",
    "df2.drop(['transaction_id'], axis=1, inplace=True)"
   ]
  },
  {
   "cell_type": "code",
   "execution_count": 10,
   "metadata": {
    "collapsed": false
   },
   "outputs": [
    {
     "name": "stdout",
     "output_type": "stream",
     "text": [
      "Important categorical features are: \n",
      "\n",
      "Index(['cat_var_3', 'cat_var_10', 'cat_var_15'], dtype='object')\n"
     ]
    }
   ],
   "source": [
    "\n",
    "\n",
    "from sklearn.base import TransformerMixin\n",
    "class DataFrameImputer(TransformerMixin):\n",
    "    def fit(self, X, y=None):\n",
    "        self.fill = pd.Series([X[c].value_counts().index[0]\n",
    "            if X[c].dtype == np.dtype('O') else X[c].median() for c in X],\n",
    "            index=X.columns)\n",
    "        return self\n",
    "    def transform(self, X, y=None):\n",
    "        return X.fillna(self.fill)\n",
    "\n",
    "df_copy = DataFrameImputer().fit_transform(df_copy)\n",
    "\n",
    "from sklearn.preprocessing import LabelEncoder\n",
    "le = LabelEncoder()\n",
    "for feature in df_copy.columns:\n",
    "    if df_copy[feature].dtype == 'object':\n",
    "        df_copy[feature] = le.fit_transform(df_copy[feature])\n",
    "\n",
    "from sklearn.ensemble import ExtraTreesClassifier\n",
    "from sklearn.feature_selection import SelectFromModel\n",
    "clf = ExtraTreesClassifier(random_state=0)\n",
    "clf = clf.fit(df_copy, y_train)\n",
    "clf.feature_importances_  \n",
    "\n",
    "model = SelectFromModel(clf, prefit=True)\n",
    "\n",
    "X_train_opt = model.transform(df_copy)\n",
    "feature_idx_train = model.get_support()\n",
    "feature_name_train = df_copy.columns[feature_idx_train]\n",
    "\n",
    "print(\"Important categorical features are: \\n\")\n",
    "print(feature_name_train)"
   ]
  },
  {
   "cell_type": "code",
   "execution_count": 11,
   "metadata": {
    "collapsed": false
   },
   "outputs": [],
   "source": [
    "from sklearn.ensemble import ExtraTreesClassifier\n",
    "from sklearn.feature_selection import SelectFromModel\n",
    "clf = ExtraTreesClassifier(random_state=0)\n",
    "clf = clf.fit(df, y_train)\n",
    "clf.feature_importances_  \n",
    "\n",
    "model = SelectFromModel(clf, prefit=True)"
   ]
  },
  {
   "cell_type": "code",
   "execution_count": 12,
   "metadata": {
    "collapsed": false
   },
   "outputs": [],
   "source": [
    "X_train_opt = model.transform(df)\n",
    "feature_idx_train = model.get_support()\n",
    "feature_name_train = df.columns[feature_idx_train]"
   ]
  },
  {
   "cell_type": "code",
   "execution_count": 13,
   "metadata": {
    "collapsed": false
   },
   "outputs": [
    {
     "name": "stdout",
     "output_type": "stream",
     "text": [
      "Important features are: \n",
      "\n",
      "Index(['num_var_1', 'num_var_2', 'num_var_4', 'num_var_5', 'num_var_6',\n",
      "       'num_var_7'],\n",
      "      dtype='object')\n"
     ]
    }
   ],
   "source": [
    "print(\"Important features are: \\n\")\n",
    "print(feature_name_train)"
   ]
  },
  {
   "cell_type": "code",
   "execution_count": 14,
   "metadata": {
    "collapsed": false
   },
   "outputs": [
    {
     "name": "stderr",
     "output_type": "stream",
     "text": [
      "C:\\ProgramData\\Anaconda3\\lib\\site-packages\\ipykernel\\__main__.py:2: SettingWithCopyWarning: \n",
      "A value is trying to be set on a copy of a slice from a DataFrame\n",
      "\n",
      "See the caveats in the documentation: http://pandas.pydata.org/pandas-docs/stable/indexing.html#indexing-view-versus-copy\n",
      "  from ipykernel import kernelapp as app\n"
     ]
    }
   ],
   "source": [
    "df2_copy.drop(['cat_var_1', 'cat_var_2','cat_var_6', 'cat_var_8',\n",
    "       'cat_var_9', 'cat_var_13'], inplace=True, axis=1)\n",
    "df_copy.drop(['cat_var_1', 'cat_var_2','cat_var_6', 'cat_var_8',\n",
    "       'cat_var_9', 'cat_var_13'], inplace=True, axis=1)"
   ]
  },
  {
   "cell_type": "code",
   "execution_count": 15,
   "metadata": {
    "collapsed": false
   },
   "outputs": [
    {
     "name": "stdout",
     "output_type": "stream",
     "text": [
      "['cat_var_3', 'cat_var_10', 'cat_var_15', 'num_var_1', 'num_var_2', 'num_var_4', 'num_var_6', 'num_var_7']\n"
     ]
    }
   ],
   "source": [
    "\n",
    "keep=['cat_var_3', 'cat_var_10', 'cat_var_15', 'num_var_1', 'num_var_2', 'num_var_4', 'num_var_6',\n",
    "       'num_var_7' ]\n",
    "print(keep)"
   ]
  },
  {
   "cell_type": "code",
   "execution_count": 16,
   "metadata": {
    "collapsed": false
   },
   "outputs": [],
   "source": [
    "df=pd.read_csv('train.csv')\n",
    "df2=pd.read_csv('test.csv')\n",
    "\n",
    "transaction_id=df2['transaction_id']\n",
    "y_train=df['target']\n",
    "\n",
    "df=df[['cat_var_3', 'cat_var_10', 'cat_var_15', 'num_var_1', 'num_var_2', 'num_var_4', 'num_var_6', 'num_var_7']]\n",
    "df2=df2[['cat_var_3', 'cat_var_10', 'cat_var_15', 'num_var_1', 'num_var_2', 'num_var_4', 'num_var_6', 'num_var_7']]"
   ]
  },
  {
   "cell_type": "code",
   "execution_count": 17,
   "metadata": {
    "collapsed": true
   },
   "outputs": [],
   "source": [
    "from sklearn.base import TransformerMixin\n",
    "class DataFrameImputer(TransformerMixin):\n",
    "    def fit(self, X, y=None):\n",
    "        self.fill = pd.Series([X[c].value_counts().index[0]\n",
    "            if X[c].dtype == np.dtype('O') else X[c].median() for c in X],\n",
    "            index=X.columns)\n",
    "        return self\n",
    "    def transform(self, X, y=None):\n",
    "        return X.fillna(self.fill)\n",
    "\n",
    "all_X = df.append(df2)\n",
    "all_X_imputed = DataFrameImputer().fit_transform(all_X)\n",
    "\n",
    "from sklearn.preprocessing import LabelEncoder\n",
    "le = LabelEncoder()\n",
    "for feature in all_X_imputed.columns:\n",
    "    if all_X_imputed[feature].dtype == 'object':\n",
    "        all_X_imputed[feature] = le.fit_transform(all_X_imputed[feature])\n",
    "\n",
    "X_train = all_X_imputed[0:df.shape[0]]\n",
    "X_test = all_X_imputed[df.shape[0]::]\n"
   ]
  },
  {
   "cell_type": "code",
   "execution_count": 18,
   "metadata": {
    "collapsed": false
   },
   "outputs": [],
   "source": [
    "from xgboost import XGBClassifier\n",
    "model=XGBClassifier()\n",
    "\n",
    "model.fit(X_train, y_train)\n",
    "\n",
    "y_pred=model.predict(X_test)\n",
    "predi=model.predict_proba(X_test)"
   ]
  },
  {
   "cell_type": "code",
   "execution_count": 19,
   "metadata": {
    "collapsed": true
   },
   "outputs": [],
   "source": [
    "to_insert=pd.DataFrame(predi, columns=['ignore','accept'])\n",
    "prediction=pd.DataFrame(columns=['transaction_id','target'])\n",
    "prediction['transaction_id']=transaction_id\n",
    "prediction['target']=to_insert['accept']\n",
    "prediction.to_csv('bw_xgboost.csv', index=False)"
   ]
  }
 ],
 "metadata": {
  "kernelspec": {
   "display_name": "Python 3",
   "language": "python",
   "name": "python3"
  },
  "language_info": {
   "codemirror_mode": {
    "name": "ipython",
    "version": 3
   },
   "file_extension": ".py",
   "mimetype": "text/x-python",
   "name": "python",
   "nbconvert_exporter": "python",
   "pygments_lexer": "ipython3",
   "version": "3.6.0"
  }
 },
 "nbformat": 4,
 "nbformat_minor": 2
}
